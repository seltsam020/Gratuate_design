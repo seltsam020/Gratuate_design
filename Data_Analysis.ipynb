{
 "cells": [
  {
   "cell_type": "code",
   "execution_count": 2,
   "metadata": {},
   "outputs": [
    {
     "data": {
      "text/plain": [
       "'NVIDIA GeForce GTX 1660 Ti'"
      ]
     },
     "execution_count": 2,
     "metadata": {},
     "output_type": "execute_result"
    }
   ],
   "source": [
    "import torch\n",
    "torch.cuda.is_available()\n",
    "torch.cuda.get_device_name()"
   ]
  },
  {
   "cell_type": "code",
   "execution_count": 3,
   "metadata": {},
   "outputs": [
    {
     "name": "stdout",
     "output_type": "stream",
     "text": [
      "                       image_id  split  \\\n",
      "0      ILSVRC2012_test_00000003   test   \n",
      "1      ILSVRC2012_test_00000004  train   \n",
      "2      ILSVRC2012_test_00000018  train   \n",
      "3      ILSVRC2012_test_00000019  train   \n",
      "4      ILSVRC2012_test_00000022  train   \n",
      "...                         ...    ...   \n",
      "15567      sun_dzkggnowaqnfrorl  train   \n",
      "15568      sun_edhovhebipkrwlvu   test   \n",
      "15569      sun_eeaiwdopbrcqbtpc   test   \n",
      "15570      sun_ejwwsnjzahzakyjq   test   \n",
      "15571      sun_ekmqudbbrseiyiht   test   \n",
      "\n",
      "                                              image_path  \\\n",
      "0      DUTS-TE/DUTS-TE-Image/ILSVRC2012_test_00000003...   \n",
      "1      DUTS-TR/DUTS-TR-Image/ILSVRC2012_test_00000004...   \n",
      "2      DUTS-TR/DUTS-TR-Image/ILSVRC2012_test_00000018...   \n",
      "3      DUTS-TR/DUTS-TR-Image/ILSVRC2012_test_00000019...   \n",
      "4      DUTS-TR/DUTS-TR-Image/ILSVRC2012_test_00000022...   \n",
      "...                                                  ...   \n",
      "15567     DUTS-TR/DUTS-TR-Image/sun_dzkggnowaqnfrorl.jpg   \n",
      "15568     DUTS-TE/DUTS-TE-Image/sun_edhovhebipkrwlvu.jpg   \n",
      "15569     DUTS-TE/DUTS-TE-Image/sun_eeaiwdopbrcqbtpc.jpg   \n",
      "15570     DUTS-TE/DUTS-TE-Image/sun_ejwwsnjzahzakyjq.jpg   \n",
      "15571     DUTS-TE/DUTS-TE-Image/sun_ekmqudbbrseiyiht.jpg   \n",
      "\n",
      "                                               mask_path  \n",
      "0      DUTS-TE/DUTS-TE-Mask/ILSVRC2012_test_00000003.png  \n",
      "1      DUTS-TR/DUTS-TR-Mask/ILSVRC2012_test_00000004.png  \n",
      "2      DUTS-TR/DUTS-TR-Mask/ILSVRC2012_test_00000018.png  \n",
      "3      DUTS-TR/DUTS-TR-Mask/ILSVRC2012_test_00000019.png  \n",
      "4      DUTS-TR/DUTS-TR-Mask/ILSVRC2012_test_00000022.png  \n",
      "...                                                  ...  \n",
      "15567      DUTS-TR/DUTS-TR-Mask/sun_dzkggnowaqnfrorl.png  \n",
      "15568      DUTS-TE/DUTS-TE-Mask/sun_edhovhebipkrwlvu.png  \n",
      "15569      DUTS-TE/DUTS-TE-Mask/sun_eeaiwdopbrcqbtpc.png  \n",
      "15570      DUTS-TE/DUTS-TE-Mask/sun_ejwwsnjzahzakyjq.png  \n",
      "15571      DUTS-TE/DUTS-TE-Mask/sun_ekmqudbbrseiyiht.png  \n",
      "\n",
      "[15572 rows x 4 columns]\n"
     ]
    },
    {
     "data": {
      "text/plain": [
       "10553"
      ]
     },
     "execution_count": 3,
     "metadata": {},
     "output_type": "execute_result"
    }
   ],
   "source": [
    "import pandas as pd\n",
    "pd.set_option(\"display.max_columns\", None)\n",
    "data=pd.read_csv(\"./Dataset/archive/metadata.csv\")\n",
    "print(data)\n",
    "len(data[data['split']=='train'])"
   ]
  },
  {
   "cell_type": "code",
   "execution_count": 4,
   "metadata": {},
   "outputs": [
    {
     "name": "stdout",
     "output_type": "stream",
     "text": [
      "10553\n",
      "5019\n"
     ]
    },
    {
     "data": {
      "text/plain": [
       "0        test\n",
       "5        test\n",
       "6        test\n",
       "7        test\n",
       "9        test\n",
       "         ... \n",
       "15566    test\n",
       "15568    test\n",
       "15569    test\n",
       "15570    test\n",
       "15571    test\n",
       "Name: split, Length: 5019, dtype: object"
      ]
     },
     "execution_count": 4,
     "metadata": {},
     "output_type": "execute_result"
    }
   ],
   "source": [
    "# import numpy as np\n",
    "# data = np.array(data)\n",
    "# # print(data)\n",
    "data\n",
    "print(len(data[data['split']=='train']))\n",
    "print(len(data[data['split']=='test']))\n",
    "data.loc[data['split']=='test','split']"
   ]
  },
  {
   "cell_type": "code",
   "execution_count": 5,
   "metadata": {},
   "outputs": [
    {
     "data": {
      "text/plain": [
       "'1.13.1+cu116'"
      ]
     },
     "execution_count": 5,
     "metadata": {},
     "output_type": "execute_result"
    }
   ],
   "source": [
    "import torch\n",
    "torch.__version__"
   ]
  },
  {
   "cell_type": "code",
   "execution_count": null,
   "metadata": {},
   "outputs": [],
   "source": []
  }
 ],
 "metadata": {
  "kernelspec": {
   "display_name": "Python 3.8.10",
   "language": "python",
   "name": "python3"
  },
  "language_info": {
   "codemirror_mode": {
    "name": "ipython",
    "version": 3
   },
   "file_extension": ".py",
   "mimetype": "text/x-python",
   "name": "python",
   "nbconvert_exporter": "python",
   "pygments_lexer": "ipython3",
   "version": "3.9.16"
  },
  "orig_nbformat": 4,
  "vscode": {
   "interpreter": {
    "hash": "aef7d1ca2c5385fdc8ab7299b17b7981a54d4b8b62e7caa6353e51eb401bd489"
   }
  }
 },
 "nbformat": 4,
 "nbformat_minor": 2
}
